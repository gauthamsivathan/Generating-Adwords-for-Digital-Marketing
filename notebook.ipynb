{
  "nbformat": 4,
  "nbformat_minor": 0,
  "metadata": {
    "colab": {
      "name": "notebook.ipynb",
      "version": "0.3.2",
      "provenance": []
    },
    "language_info": {
      "codemirror_mode": {
        "name": "ipython",
        "version": 3
      },
      "mimetype": "text/x-python",
      "pygments_lexer": "ipython3",
      "name": "python",
      "nbconvert_exporter": "python",
      "version": "3.5.2",
      "file_extension": ".py"
    },
    "kernelspec": {
      "name": "python3",
      "display_name": "Python 3",
      "language": "python"
    }
  },
  "cells": [
    {
      "cell_type": "markdown",
      "metadata": {
        "deletable": false,
        "dc": {
          "key": "4"
        },
        "tags": [
          "context"
        ],
        "editable": false,
        "run_control": {
          "frozen": true
        },
        "id": "GGtWJd4sxuWi",
        "colab_type": "text"
      },
      "source": [
        "## 1. The Introduction\n",
        "<p>Imagine starting a Men's watch company, and you want to creat large campaigns for all of your website. We should be creating a prototype set of keywords for search campaigns for our Watches. Let us try to generate keywords for the following products: </p>\n",
        "<ul>\n",
        "<li>Watches men</li>\n",
        "<li>Men's watches</li>\n",
        "</ul>\n",
        "<p><strong>The brief</strong>: Since we are just starting, our watch prices won't be higher and we can be a low-cost retailer, offering many promotions and discounts. We will need to focus on such keywords. We will also need to move away from luxury keywords and topics, as we are targeting price-sensitive customers. Because we are going to be tight on budget, it would be good to focus on a tightly targeted set of keywords and make sure they are all set to exact and phrase match.</p>\n",
        "<p>Based on the brief above we will first need to generate a list of words, that together with the products given above would make for good keywords. Here are some examples:</p>\n",
        "<ul>\n",
        "<li>Products: watches, watches for men</li>\n",
        "<li>Words: buy, sale, discount</li>\n",
        "</ul>\n",
        "<p>The resulting keywords: 'buy watches',  'sale watches', 'watches sale'</p>\n",
        "<p>As a final result, we want to have a DataFrame that looks like this: </p>\n",
        "<table>\n",
        "<thead>\n",
        "<tr>\n",
        "<th>Campaign</th>\n",
        "<th>Ad Group</th>\n",
        "<th>Keyword</th>\n",
        "<th>Criterion Type</th>\n",
        "</tr>\n",
        "</thead>\n",
        "<tbody>\n",
        "<tr>\n",
        "<td>Campaign1</td>\n",
        "<td>AdGroup_1</td>\n",
        "<td>keyword 1a</td>\n",
        "<td>Exact</td>\n",
        "</tr>\n",
        "<tr>\n",
        "<td>Campaign1</td>\n",
        "<td>AdGroup_1</td>\n",
        "<td>keyword 1a</td>\n",
        "<td>Phrase</td>\n",
        "</tr>\n",
        "<tr>\n",
        "<td>Campaign1</td>\n",
        "<td>AdGroup_1</td>\n",
        "<td>keyword 1b</td>\n",
        "<td>Exact</td>\n",
        "</tr>\n",
        "<tr>\n",
        "<td>Campaign1</td>\n",
        "<td>AdGroup_1</td>\n",
        "<td>keyword 1b</td>\n",
        "<td>Phrase</td>\n",
        "</tr>\n",
        "<tr>\n",
        "<td>Campaign1</td>\n",
        "<td>AdGroup_2</td>\n",
        "<td>keyword 2a</td>\n",
        "<td>Exact</td>\n",
        "</tr>\n",
        "<tr>\n",
        "<td>Campaign1</td>\n",
        "<td>AdGroup_2</td>\n",
        "<td>keyword 2a</td>\n",
        "<td>Phrase</td>\n",
        "</tr>\n",
        "</tbody>\n",
        "</table>\n",
        "<p>The first step is to come up with a list of words that users might use to express their desire in buying low-cost watches.</p>"
      ]
    },
    {
      "cell_type": "code",
      "metadata": {
        "dc": {
          "key": "4"
        },
        "tags": [
          "sample_code"
        ],
        "trusted": true,
        "id": "aqqNsCbWxuWn",
        "colab_type": "code",
        "colab": {
          "base_uri": "https://localhost:8080/",
          "height": 34
        },
        "outputId": "1d3c62a6-ff72-462d-f392-e493d95eab07"
      },
      "source": [
        "# List of words to pair with products\n",
        "words = ['buy', 'discount', 'price', 'promotion', 'promo', 'shop', 'cheap', 'sale', 'outlet', 'store']\n",
        "\n",
        "# Print list of words\n",
        "print(words)"
      ],
      "execution_count": 16,
      "outputs": [
        {
          "output_type": "stream",
          "text": [
            "['buy', 'discount', 'price', 'promotion', 'promo', 'shop', 'cheap', 'sale', 'outlet', 'store']\n"
          ],
          "name": "stdout"
        }
      ]
    },
    {
      "cell_type": "markdown",
      "metadata": {
        "deletable": false,
        "dc": {
          "key": "11"
        },
        "tags": [
          "context"
        ],
        "editable": false,
        "run_control": {
          "frozen": true
        },
        "id": "2LdYDN-WxuW0",
        "colab_type": "text"
      },
      "source": [
        "## 2. Combining the words with the product names\n",
        "<p>Imagining all the possible combinations of keywords can be stressful! But not for us, because we are keyword kings! We know how to translate campaign briefs into Python data structures and can imagine the resulting DataFrames that we need to create.</p>\n",
        "<p>Now that we have brainstormed the words that work well with the brief that we received, it is now time to combine them with the product names to generate meaningful search keywords. We want to combine every word with every product once before, and once after, as seen in the example above.</p>\n",
        "<p>As a quick reminder, for the product 'watches' and the words 'buy' and 'price' for example, we would want to generate the following combinations: </p>\n",
        "<p>buy watches<br>\n",
        "watches buy<br>\n",
        "price watches<br>\n",
        "watches price<br>\n",
        "...  </p>\n",
        "<p>and so on for all the words and products that we have.</p>"
      ]
    },
    {
      "cell_type": "code",
      "metadata": {
        "dc": {
          "key": "11"
        },
        "tags": [
          "sample_code"
        ],
        "trusted": true,
        "id": "YoOCH51_xuW2",
        "colab_type": "code",
        "colab": {
          "base_uri": "https://localhost:8080/",
          "height": 1000
        },
        "outputId": "b674d11b-db1e-443b-c09f-b9723b240018"
      },
      "source": [
        "products = ['watches', 'men watches', 'watches for him', 'watch', \"men's watches\", 'boys watches', 'watches boys', \"men's watches\", 'watch for boyfriend', 'boyfriend watch', 'boyfriend watches']\n",
        "\n",
        "# Create an empty list\n",
        "keywords_list = []\n",
        "\n",
        "# Loop through products\n",
        "for product in products:\n",
        "    # Loop through words\n",
        "    for word in words:\n",
        "        # Append combinations\n",
        "        keywords_list.append([product, product + ' ' + word])\n",
        "        keywords_list.append([product, word + ' ' + product])\n",
        "        \n",
        "# Inspect keyword list\n",
        "from pprint import pprint\n",
        "pprint(keywords_list)"
      ],
      "execution_count": 20,
      "outputs": [
        {
          "output_type": "stream",
          "text": [
            "[['watches', 'watches buy'],\n",
            " ['watches', 'buy watches'],\n",
            " ['watches', 'watches discount'],\n",
            " ['watches', 'discount watches'],\n",
            " ['watches', 'watches price'],\n",
            " ['watches', 'price watches'],\n",
            " ['watches', 'watches promotion'],\n",
            " ['watches', 'promotion watches'],\n",
            " ['watches', 'watches promo'],\n",
            " ['watches', 'promo watches'],\n",
            " ['watches', 'watches shop'],\n",
            " ['watches', 'shop watches'],\n",
            " ['watches', 'watches cheap'],\n",
            " ['watches', 'cheap watches'],\n",
            " ['watches', 'watches sale'],\n",
            " ['watches', 'sale watches'],\n",
            " ['watches', 'watches outlet'],\n",
            " ['watches', 'outlet watches'],\n",
            " ['watches', 'watches store'],\n",
            " ['watches', 'store watches'],\n",
            " ['men watches', 'men watches buy'],\n",
            " ['men watches', 'buy men watches'],\n",
            " ['men watches', 'men watches discount'],\n",
            " ['men watches', 'discount men watches'],\n",
            " ['men watches', 'men watches price'],\n",
            " ['men watches', 'price men watches'],\n",
            " ['men watches', 'men watches promotion'],\n",
            " ['men watches', 'promotion men watches'],\n",
            " ['men watches', 'men watches promo'],\n",
            " ['men watches', 'promo men watches'],\n",
            " ['men watches', 'men watches shop'],\n",
            " ['men watches', 'shop men watches'],\n",
            " ['men watches', 'men watches cheap'],\n",
            " ['men watches', 'cheap men watches'],\n",
            " ['men watches', 'men watches sale'],\n",
            " ['men watches', 'sale men watches'],\n",
            " ['men watches', 'men watches outlet'],\n",
            " ['men watches', 'outlet men watches'],\n",
            " ['men watches', 'men watches store'],\n",
            " ['men watches', 'store men watches'],\n",
            " ['watches for him', 'watches for him buy'],\n",
            " ['watches for him', 'buy watches for him'],\n",
            " ['watches for him', 'watches for him discount'],\n",
            " ['watches for him', 'discount watches for him'],\n",
            " ['watches for him', 'watches for him price'],\n",
            " ['watches for him', 'price watches for him'],\n",
            " ['watches for him', 'watches for him promotion'],\n",
            " ['watches for him', 'promotion watches for him'],\n",
            " ['watches for him', 'watches for him promo'],\n",
            " ['watches for him', 'promo watches for him'],\n",
            " ['watches for him', 'watches for him shop'],\n",
            " ['watches for him', 'shop watches for him'],\n",
            " ['watches for him', 'watches for him cheap'],\n",
            " ['watches for him', 'cheap watches for him'],\n",
            " ['watches for him', 'watches for him sale'],\n",
            " ['watches for him', 'sale watches for him'],\n",
            " ['watches for him', 'watches for him outlet'],\n",
            " ['watches for him', 'outlet watches for him'],\n",
            " ['watches for him', 'watches for him store'],\n",
            " ['watches for him', 'store watches for him'],\n",
            " ['watch', 'watch buy'],\n",
            " ['watch', 'buy watch'],\n",
            " ['watch', 'watch discount'],\n",
            " ['watch', 'discount watch'],\n",
            " ['watch', 'watch price'],\n",
            " ['watch', 'price watch'],\n",
            " ['watch', 'watch promotion'],\n",
            " ['watch', 'promotion watch'],\n",
            " ['watch', 'watch promo'],\n",
            " ['watch', 'promo watch'],\n",
            " ['watch', 'watch shop'],\n",
            " ['watch', 'shop watch'],\n",
            " ['watch', 'watch cheap'],\n",
            " ['watch', 'cheap watch'],\n",
            " ['watch', 'watch sale'],\n",
            " ['watch', 'sale watch'],\n",
            " ['watch', 'watch outlet'],\n",
            " ['watch', 'outlet watch'],\n",
            " ['watch', 'watch store'],\n",
            " ['watch', 'store watch'],\n",
            " [\"men's watches\", \"men's watches buy\"],\n",
            " [\"men's watches\", \"buy men's watches\"],\n",
            " [\"men's watches\", \"men's watches discount\"],\n",
            " [\"men's watches\", \"discount men's watches\"],\n",
            " [\"men's watches\", \"men's watches price\"],\n",
            " [\"men's watches\", \"price men's watches\"],\n",
            " [\"men's watches\", \"men's watches promotion\"],\n",
            " [\"men's watches\", \"promotion men's watches\"],\n",
            " [\"men's watches\", \"men's watches promo\"],\n",
            " [\"men's watches\", \"promo men's watches\"],\n",
            " [\"men's watches\", \"men's watches shop\"],\n",
            " [\"men's watches\", \"shop men's watches\"],\n",
            " [\"men's watches\", \"men's watches cheap\"],\n",
            " [\"men's watches\", \"cheap men's watches\"],\n",
            " [\"men's watches\", \"men's watches sale\"],\n",
            " [\"men's watches\", \"sale men's watches\"],\n",
            " [\"men's watches\", \"men's watches outlet\"],\n",
            " [\"men's watches\", \"outlet men's watches\"],\n",
            " [\"men's watches\", \"men's watches store\"],\n",
            " [\"men's watches\", \"store men's watches\"],\n",
            " ['boys watches', 'boys watches buy'],\n",
            " ['boys watches', 'buy boys watches'],\n",
            " ['boys watches', 'boys watches discount'],\n",
            " ['boys watches', 'discount boys watches'],\n",
            " ['boys watches', 'boys watches price'],\n",
            " ['boys watches', 'price boys watches'],\n",
            " ['boys watches', 'boys watches promotion'],\n",
            " ['boys watches', 'promotion boys watches'],\n",
            " ['boys watches', 'boys watches promo'],\n",
            " ['boys watches', 'promo boys watches'],\n",
            " ['boys watches', 'boys watches shop'],\n",
            " ['boys watches', 'shop boys watches'],\n",
            " ['boys watches', 'boys watches cheap'],\n",
            " ['boys watches', 'cheap boys watches'],\n",
            " ['boys watches', 'boys watches sale'],\n",
            " ['boys watches', 'sale boys watches'],\n",
            " ['boys watches', 'boys watches outlet'],\n",
            " ['boys watches', 'outlet boys watches'],\n",
            " ['boys watches', 'boys watches store'],\n",
            " ['boys watches', 'store boys watches'],\n",
            " ['watches boys', 'watches boys buy'],\n",
            " ['watches boys', 'buy watches boys'],\n",
            " ['watches boys', 'watches boys discount'],\n",
            " ['watches boys', 'discount watches boys'],\n",
            " ['watches boys', 'watches boys price'],\n",
            " ['watches boys', 'price watches boys'],\n",
            " ['watches boys', 'watches boys promotion'],\n",
            " ['watches boys', 'promotion watches boys'],\n",
            " ['watches boys', 'watches boys promo'],\n",
            " ['watches boys', 'promo watches boys'],\n",
            " ['watches boys', 'watches boys shop'],\n",
            " ['watches boys', 'shop watches boys'],\n",
            " ['watches boys', 'watches boys cheap'],\n",
            " ['watches boys', 'cheap watches boys'],\n",
            " ['watches boys', 'watches boys sale'],\n",
            " ['watches boys', 'sale watches boys'],\n",
            " ['watches boys', 'watches boys outlet'],\n",
            " ['watches boys', 'outlet watches boys'],\n",
            " ['watches boys', 'watches boys store'],\n",
            " ['watches boys', 'store watches boys'],\n",
            " [\"men's watches\", \"men's watches buy\"],\n",
            " [\"men's watches\", \"buy men's watches\"],\n",
            " [\"men's watches\", \"men's watches discount\"],\n",
            " [\"men's watches\", \"discount men's watches\"],\n",
            " [\"men's watches\", \"men's watches price\"],\n",
            " [\"men's watches\", \"price men's watches\"],\n",
            " [\"men's watches\", \"men's watches promotion\"],\n",
            " [\"men's watches\", \"promotion men's watches\"],\n",
            " [\"men's watches\", \"men's watches promo\"],\n",
            " [\"men's watches\", \"promo men's watches\"],\n",
            " [\"men's watches\", \"men's watches shop\"],\n",
            " [\"men's watches\", \"shop men's watches\"],\n",
            " [\"men's watches\", \"men's watches cheap\"],\n",
            " [\"men's watches\", \"cheap men's watches\"],\n",
            " [\"men's watches\", \"men's watches sale\"],\n",
            " [\"men's watches\", \"sale men's watches\"],\n",
            " [\"men's watches\", \"men's watches outlet\"],\n",
            " [\"men's watches\", \"outlet men's watches\"],\n",
            " [\"men's watches\", \"men's watches store\"],\n",
            " [\"men's watches\", \"store men's watches\"],\n",
            " ['watch for boyfriend', 'watch for boyfriend buy'],\n",
            " ['watch for boyfriend', 'buy watch for boyfriend'],\n",
            " ['watch for boyfriend', 'watch for boyfriend discount'],\n",
            " ['watch for boyfriend', 'discount watch for boyfriend'],\n",
            " ['watch for boyfriend', 'watch for boyfriend price'],\n",
            " ['watch for boyfriend', 'price watch for boyfriend'],\n",
            " ['watch for boyfriend', 'watch for boyfriend promotion'],\n",
            " ['watch for boyfriend', 'promotion watch for boyfriend'],\n",
            " ['watch for boyfriend', 'watch for boyfriend promo'],\n",
            " ['watch for boyfriend', 'promo watch for boyfriend'],\n",
            " ['watch for boyfriend', 'watch for boyfriend shop'],\n",
            " ['watch for boyfriend', 'shop watch for boyfriend'],\n",
            " ['watch for boyfriend', 'watch for boyfriend cheap'],\n",
            " ['watch for boyfriend', 'cheap watch for boyfriend'],\n",
            " ['watch for boyfriend', 'watch for boyfriend sale'],\n",
            " ['watch for boyfriend', 'sale watch for boyfriend'],\n",
            " ['watch for boyfriend', 'watch for boyfriend outlet'],\n",
            " ['watch for boyfriend', 'outlet watch for boyfriend'],\n",
            " ['watch for boyfriend', 'watch for boyfriend store'],\n",
            " ['watch for boyfriend', 'store watch for boyfriend'],\n",
            " ['boyfriend watch', 'boyfriend watch buy'],\n",
            " ['boyfriend watch', 'buy boyfriend watch'],\n",
            " ['boyfriend watch', 'boyfriend watch discount'],\n",
            " ['boyfriend watch', 'discount boyfriend watch'],\n",
            " ['boyfriend watch', 'boyfriend watch price'],\n",
            " ['boyfriend watch', 'price boyfriend watch'],\n",
            " ['boyfriend watch', 'boyfriend watch promotion'],\n",
            " ['boyfriend watch', 'promotion boyfriend watch'],\n",
            " ['boyfriend watch', 'boyfriend watch promo'],\n",
            " ['boyfriend watch', 'promo boyfriend watch'],\n",
            " ['boyfriend watch', 'boyfriend watch shop'],\n",
            " ['boyfriend watch', 'shop boyfriend watch'],\n",
            " ['boyfriend watch', 'boyfriend watch cheap'],\n",
            " ['boyfriend watch', 'cheap boyfriend watch'],\n",
            " ['boyfriend watch', 'boyfriend watch sale'],\n",
            " ['boyfriend watch', 'sale boyfriend watch'],\n",
            " ['boyfriend watch', 'boyfriend watch outlet'],\n",
            " ['boyfriend watch', 'outlet boyfriend watch'],\n",
            " ['boyfriend watch', 'boyfriend watch store'],\n",
            " ['boyfriend watch', 'store boyfriend watch'],\n",
            " ['boyfriend watches', 'boyfriend watches buy'],\n",
            " ['boyfriend watches', 'buy boyfriend watches'],\n",
            " ['boyfriend watches', 'boyfriend watches discount'],\n",
            " ['boyfriend watches', 'discount boyfriend watches'],\n",
            " ['boyfriend watches', 'boyfriend watches price'],\n",
            " ['boyfriend watches', 'price boyfriend watches'],\n",
            " ['boyfriend watches', 'boyfriend watches promotion'],\n",
            " ['boyfriend watches', 'promotion boyfriend watches'],\n",
            " ['boyfriend watches', 'boyfriend watches promo'],\n",
            " ['boyfriend watches', 'promo boyfriend watches'],\n",
            " ['boyfriend watches', 'boyfriend watches shop'],\n",
            " ['boyfriend watches', 'shop boyfriend watches'],\n",
            " ['boyfriend watches', 'boyfriend watches cheap'],\n",
            " ['boyfriend watches', 'cheap boyfriend watches'],\n",
            " ['boyfriend watches', 'boyfriend watches sale'],\n",
            " ['boyfriend watches', 'sale boyfriend watches'],\n",
            " ['boyfriend watches', 'boyfriend watches outlet'],\n",
            " ['boyfriend watches', 'outlet boyfriend watches'],\n",
            " ['boyfriend watches', 'boyfriend watches store'],\n",
            " ['boyfriend watches', 'store boyfriend watches']]\n"
          ],
          "name": "stdout"
        }
      ]
    },
    {
      "cell_type": "markdown",
      "metadata": {
        "deletable": false,
        "dc": {
          "key": "18"
        },
        "tags": [
          "context"
        ],
        "editable": false,
        "run_control": {
          "frozen": true
        },
        "id": "IFXPQrRpxuW9",
        "colab_type": "text"
      },
      "source": [
        "## 3. Converting the list of lists into a DataFrame"
      ]
    },
    {
      "cell_type": "code",
      "metadata": {
        "dc": {
          "key": "18"
        },
        "tags": [
          "sample_code"
        ],
        "trusted": true,
        "id": "t6Tn34OqxuW_",
        "colab_type": "code",
        "colab": {
          "base_uri": "https://localhost:8080/",
          "height": 359
        },
        "outputId": "9ec3d8f7-bf68-461b-b613-f86640a8a45a"
      },
      "source": [
        "# importing pandas library\n",
        "import pandas as pd\n",
        "# Create a DataFrame from list\n",
        "keywords_df = pd.DataFrame.from_records(keywords_list)\n",
        "\n",
        "# Print the keywords DataFrame to explore it\n",
        "keywords_df.head(10)"
      ],
      "execution_count": 9,
      "outputs": [
        {
          "output_type": "execute_result",
          "data": {
            "text/html": [
              "<div>\n",
              "<style scoped>\n",
              "    .dataframe tbody tr th:only-of-type {\n",
              "        vertical-align: middle;\n",
              "    }\n",
              "\n",
              "    .dataframe tbody tr th {\n",
              "        vertical-align: top;\n",
              "    }\n",
              "\n",
              "    .dataframe thead th {\n",
              "        text-align: right;\n",
              "    }\n",
              "</style>\n",
              "<table border=\"1\" class=\"dataframe\">\n",
              "  <thead>\n",
              "    <tr style=\"text-align: right;\">\n",
              "      <th></th>\n",
              "      <th>0</th>\n",
              "      <th>1</th>\n",
              "    </tr>\n",
              "  </thead>\n",
              "  <tbody>\n",
              "    <tr>\n",
              "      <th>0</th>\n",
              "      <td>watches</td>\n",
              "      <td>watches buy</td>\n",
              "    </tr>\n",
              "    <tr>\n",
              "      <th>1</th>\n",
              "      <td>watches</td>\n",
              "      <td>buy watches</td>\n",
              "    </tr>\n",
              "    <tr>\n",
              "      <th>2</th>\n",
              "      <td>watches</td>\n",
              "      <td>watches discount</td>\n",
              "    </tr>\n",
              "    <tr>\n",
              "      <th>3</th>\n",
              "      <td>watches</td>\n",
              "      <td>discount watches</td>\n",
              "    </tr>\n",
              "    <tr>\n",
              "      <th>4</th>\n",
              "      <td>watches</td>\n",
              "      <td>watches price</td>\n",
              "    </tr>\n",
              "    <tr>\n",
              "      <th>5</th>\n",
              "      <td>watches</td>\n",
              "      <td>price watches</td>\n",
              "    </tr>\n",
              "    <tr>\n",
              "      <th>6</th>\n",
              "      <td>watches</td>\n",
              "      <td>watches promotion</td>\n",
              "    </tr>\n",
              "    <tr>\n",
              "      <th>7</th>\n",
              "      <td>watches</td>\n",
              "      <td>promotion watches</td>\n",
              "    </tr>\n",
              "    <tr>\n",
              "      <th>8</th>\n",
              "      <td>watches</td>\n",
              "      <td>watches promo</td>\n",
              "    </tr>\n",
              "    <tr>\n",
              "      <th>9</th>\n",
              "      <td>watches</td>\n",
              "      <td>promo watches</td>\n",
              "    </tr>\n",
              "  </tbody>\n",
              "</table>\n",
              "</div>"
            ],
            "text/plain": [
              "         0                  1\n",
              "0  watches        watches buy\n",
              "1  watches        buy watches\n",
              "2  watches   watches discount\n",
              "3  watches   discount watches\n",
              "4  watches      watches price\n",
              "5  watches      price watches\n",
              "6  watches  watches promotion\n",
              "7  watches  promotion watches\n",
              "8  watches      watches promo\n",
              "9  watches      promo watches"
            ]
          },
          "metadata": {
            "tags": []
          },
          "execution_count": 9
        }
      ]
    },
    {
      "cell_type": "markdown",
      "metadata": {
        "deletable": false,
        "dc": {
          "key": "25"
        },
        "tags": [
          "context"
        ],
        "editable": false,
        "run_control": {
          "frozen": true
        },
        "id": "XVxkFGOKxuXF",
        "colab_type": "text"
      },
      "source": [
        "## 4. Rename the columns of the DataFrame\n",
        "<p>Before we can upload this table of keywords, we will need to give the columns meaningful names. If we inspect the DataFrame we just created above, we can see that the columns are currently named <code>0</code> and <code>1</code>. <code>Ad Group</code> (example: \"watches\") and <code>Keyword</code> (example: \"watches buy\") are much more appropriate names.</p>"
      ]
    },
    {
      "cell_type": "code",
      "metadata": {
        "dc": {
          "key": "25"
        },
        "tags": [
          "sample_code"
        ],
        "trusted": true,
        "id": "yur_m-kgxuXG",
        "colab_type": "code",
        "colab": {}
      },
      "source": [
        "# Rename the columns of the DataFrame\n",
        "keywords_df.columns = ['Ad Group', 'Keyword']"
      ],
      "execution_count": 0,
      "outputs": []
    },
    {
      "cell_type": "markdown",
      "metadata": {
        "deletable": false,
        "dc": {
          "key": "32"
        },
        "tags": [
          "context"
        ],
        "editable": false,
        "run_control": {
          "frozen": true
        },
        "id": "im4iIp2TxuXJ",
        "colab_type": "text"
      },
      "source": [
        "## 5. Add a campaign column\n",
        "<p>Now we need to add some additional information to our DataFrame. \n",
        "We need a new column called <code>Campaign</code> for the campaign name. We want campaign names to be descriptive of our group of keywords and products, so let's call this campaign 'watches'.</p>"
      ]
    },
    {
      "cell_type": "code",
      "metadata": {
        "dc": {
          "key": "32"
        },
        "tags": [
          "sample_code"
        ],
        "trusted": true,
        "id": "BVLQg2-exuXK",
        "colab_type": "code",
        "colab": {}
      },
      "source": [
        "# Add a campaign column\n",
        "keywords_df['Campaign'] = 'watches'"
      ],
      "execution_count": 0,
      "outputs": []
    },
    {
      "cell_type": "markdown",
      "metadata": {
        "deletable": false,
        "dc": {
          "key": "39"
        },
        "tags": [
          "context"
        ],
        "editable": false,
        "run_control": {
          "frozen": true
        },
        "id": "GHbPhaJdxuXO",
        "colab_type": "text"
      },
      "source": [
        "## 6. Create the match type column\n",
        "<p>There are different keyword match types. One is exact match, which is for matching the exact term or are close variations of that exact term. Another match type is broad match, which means ads may show on searches that include misspellings, synonyms, related searches, and other relevant variations.</p>\n",
        "<p>Straight from Google's AdWords <a href=\"https://support.google.com/google-ads/answer/2497836?hl=en\">documentation</a>:</p>\n",
        "<blockquote>\n",
        "  <p>In general, the broader the match type, the more traffic potential that keyword will have, since your ads may be triggered more often. Conversely, a narrower match type means that your ads may show less often—but when they do, they’re likely to be more related to someone’s search.</p>\n",
        "</blockquote>\n",
        "<p>Since we have just launched the company, we might be tight on budget, so we want to make sure all the keywords are in exact match at the beginning.</p>"
      ]
    },
    {
      "cell_type": "code",
      "metadata": {
        "dc": {
          "key": "39"
        },
        "tags": [
          "sample_code"
        ],
        "trusted": true,
        "id": "d4mftTQkxuXP",
        "colab_type": "code",
        "colab": {}
      },
      "source": [
        "# Add a criterion type column\n",
        "keywords_df['Criterion Type'] = 'Exact'"
      ],
      "execution_count": 0,
      "outputs": []
    },
    {
      "cell_type": "markdown",
      "metadata": {
        "deletable": false,
        "dc": {
          "key": "46"
        },
        "tags": [
          "context"
        ],
        "editable": false,
        "run_control": {
          "frozen": true
        },
        "id": "ZmDFcChmxuXS",
        "colab_type": "text"
      },
      "source": [
        "## 7. Duplicate all the keywords into 'phrase' match\n",
        "<p>The great thing about exact match is that it is very specific, and we can control the process very well. The tradeoff, however, is that:  </p>\n",
        "<ol>\n",
        "<li>The search volume for exact match is lower than other match types</li>\n",
        "<li>We can't possibly think of all the ways in which people search, and so, we are probably missing out on some high-quality keywords.</li>\n",
        "</ol>\n",
        "<p>So it's good to use another match called <em>phrase match</em> as a discovery mechanism to allow our ads to be triggered by keywords that include our exact match keywords, together with anything before (or after) them.</p>\n",
        "<p>Later on, when we launch the campaign, we can explore with modified broad match, broad match, and negative match types, for better visibility and control of our campaigns.</p>"
      ]
    },
    {
      "cell_type": "code",
      "metadata": {
        "dc": {
          "key": "46"
        },
        "tags": [
          "sample_code"
        ],
        "trusted": true,
        "id": "iONvnnWjxuXT",
        "colab_type": "code",
        "colab": {}
      },
      "source": [
        "# Making a copy of the keywords DataFrame\n",
        "keywords_phrase = keywords_df.copy()\n",
        "\n",
        "# Changing criterion type match to phrase\n",
        "keywords_phrase['Criterion Type'] = 'Phrase'\n",
        "\n",
        "# Appending the DataFrames\n",
        "keywords_df_final = keywords_df.append(keywords_phrase)"
      ],
      "execution_count": 0,
      "outputs": []
    },
    {
      "cell_type": "markdown",
      "metadata": {
        "deletable": false,
        "dc": {
          "key": "53"
        },
        "tags": [
          "context"
        ],
        "editable": false,
        "run_control": {
          "frozen": true
        },
        "id": "_AZR-j-KxuXX",
        "colab_type": "text"
      },
      "source": [
        "## 8. Save and summarize!\n",
        "<p>To upload our campaign, we need to save it as a CSV file. Then we will be able to import it to AdWords editor or BingAds editor. There is also the option of pasting the data into the editor if we want, but having easy access to the saved data is great so let's save to a CSV file!</p>\n",
        "<p>Looking at a summary of our campaign structure is good now that we've wrapped up our keyword work. We can do that by grouping by ad group and criterion type and counting by keyword. This summary shows us that we assigned specific keywords to specific ad groups, which are each part of a campaign. In essence, we are telling Google (or Bing, etc.) that we want any of the words in each ad group to trigger one of the ads in the same ad group. "
      ]
    },
    {
      "cell_type": "code",
      "metadata": {
        "dc": {
          "key": "53"
        },
        "tags": [
          "sample_code"
        ],
        "trusted": true,
        "id": "IFtT7BRvxuXY",
        "colab_type": "code",
        "colab": {
          "base_uri": "https://localhost:8080/",
          "height": 391
        },
        "outputId": "3d093200-a9d8-4b86-e128-89137e9c3742"
      },
      "source": [
        "# Save the final keywords to a CSV file\n",
        "keywords_df_final.to_csv('keywords.csv', index=False)\n",
        "\n",
        "# View a summary of our campaign work\n",
        "summary = keywords_df_final.groupby(['Ad Group', 'Criterion Type'])['Keyword'].count()\n",
        "print(summary)\n",
        "\n",
        "from google.colab import files\n",
        "files.download('keywords.csv')"
      ],
      "execution_count": 24,
      "outputs": [
        {
          "output_type": "stream",
          "text": [
            "Ad Group             Criterion Type\n",
            "boyfriend watch      Exact             20\n",
            "                     Phrase            20\n",
            "boyfriend watches    Exact             20\n",
            "                     Phrase            20\n",
            "boys watches         Exact             20\n",
            "                     Phrase            20\n",
            "men watches          Exact             20\n",
            "                     Phrase            20\n",
            "men's watches        Exact             40\n",
            "                     Phrase            40\n",
            "watch                Exact             20\n",
            "                     Phrase            20\n",
            "watch for boyfriend  Exact             20\n",
            "                     Phrase            20\n",
            "watches              Exact             20\n",
            "                     Phrase            20\n",
            "watches boys         Exact             20\n",
            "                     Phrase            20\n",
            "watches for him      Exact             20\n",
            "                     Phrase            20\n",
            "Name: Keyword, dtype: int64\n"
          ],
          "name": "stdout"
        }
      ]
    }
  ]
}